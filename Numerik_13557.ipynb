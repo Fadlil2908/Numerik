{
  "nbformat": 4,
  "nbformat_minor": 0,
  "metadata": {
    "colab": {
      "provenance": []
    },
    "kernelspec": {
      "name": "python3",
      "display_name": "Python 3"
    },
    "language_info": {
      "name": "python"
    }
  },
  "cells": [
    {
      "cell_type": "markdown",
      "source": [
        "\n",
        "\n",
        "*   Nama : Fadlil Aliffiana Hasan\n",
        "*   NIM  : A11.2021.13557\n",
        "\n"
      ],
      "metadata": {
        "id": "urSvympJALFJ"
      }
    },
    {
      "cell_type": "markdown",
      "source": [
        "Sebuah satelit akan diluncurkan ke orbit melingkar mengelilingi bumi sehingga ia mengorbit planet ini satu kali saja tiap detik. Ketinggian(altitude) di atas permukaan bumi yang harus dimiliki satelit tersebut adalah?"
      ],
      "metadata": {
        "id": "6VT7HX2x7JgC"
      }
    },
    {
      "cell_type": "markdown",
      "source": [
        "Rumus:\n",
        "![WhatsApp Image 2024-06-29 at 14.43.15.jpeg](data:image/jpeg;base64,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)"
      ],
      "metadata": {
        "id": "rH-Ja9pz8B12"
      }
    },
    {
      "cell_type": "markdown",
      "source": [
        "Dimana ![1.jpeg](data:image/jpeg;base64,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) merupakan Newton's gravitational constant, ![2.jpeg](data:image/jpeg;base64,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) merupakan massa bumi, dan ![3.jpeg](data:image/jpeg;base64,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)adalah radius."
      ],
      "metadata": {
        "id": "aTpY3lQS-ITb"
      }
    },
    {
      "cell_type": "markdown",
      "source": [
        "Tulis sebuah program untuk nilai tertentu T(dimasukkan sebagai variabel T dalam sel), menghitung dan mencetak ketinggian yang benar dalam meter, kilometer, dan mil, dengan satu tempat desimal untuk setiap hasil."
      ],
      "metadata": {
        "id": "i_9BxkhI_IFD"
      }
    },
    {
      "cell_type": "code",
      "source": [
        "import math as math"
      ],
      "metadata": {
        "id": "NKVw_n9lDuy6"
      },
      "execution_count": 1,
      "outputs": []
    },
    {
      "cell_type": "code",
      "source": [
        "G = 6.67*(10**-11)\n",
        "M_Bumi = 5.97*(10**24)\n",
        "R_Bumi = 6371*(10**3)\n",
        "T = 3.5\n",
        "h = (G*M_Bumi*((T*3600)**2)/(4*math.pi**2))**(1/3)-R_Bumi"
      ],
      "metadata": {
        "id": "ZKu_hr5hEAEE"
      },
      "execution_count": 2,
      "outputs": []
    },
    {
      "cell_type": "code",
      "source": [
        "print(\"altitude of a satellite with period of\",T,\"hours\",\"is:\")\n",
        "print(\"\")\n",
        "print(round(h, 1), \"meters\")\n",
        "print(round(h/1000, 1), \"kilometers\")\n",
        "print(round((h/1000)*0.621, 1), \"mil\")"
      ],
      "metadata": {
        "colab": {
          "base_uri": "https://localhost:8080/"
        },
        "id": "mO52IrLMFRbj",
        "outputId": "5d487c42-9df3-4c0f-9efa-01f9ebf2f397"
      },
      "execution_count": 3,
      "outputs": [
        {
          "output_type": "stream",
          "name": "stdout",
          "text": [
            "altitude of a satellite with period of 3.5 hours is:\n",
            "\n",
            "5328316.9 meters\n",
            "5328.3 kilometers\n",
            "3308.9 mil\n"
          ]
        }
      ]
    }
  ]
}